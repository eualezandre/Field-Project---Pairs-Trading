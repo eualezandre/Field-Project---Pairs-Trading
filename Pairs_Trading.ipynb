{
  "cells": [
    {
      "cell_type": "markdown",
      "metadata": {
        "id": "wUJCQIGQoZaZ"
      },
      "source": [
        "# Importando bibliotecas e dados"
      ]
    },
    {
      "cell_type": "code",
      "execution_count": null,
      "metadata": {
        "colab": {
          "base_uri": "https://localhost:8080/"
        },
        "id": "33WLM5gFgoOP",
        "outputId": "1e35b17b-4ec1-48cc-d5ce-7f12e8bdf323"
      },
      "outputs": [
        {
          "output_type": "stream",
          "name": "stdout",
          "text": [
            "Looking in indexes: https://pypi.org/simple, https://us-python.pkg.dev/colab-wheels/public/simple/\n",
            "Collecting yfinance\n",
            "  Downloading yfinance-0.1.85-py2.py3-none-any.whl (29 kB)\n",
            "Requirement already satisfied: pandas>=0.24.0 in /usr/local/lib/python3.7/dist-packages (from yfinance) (1.3.5)\n",
            "Requirement already satisfied: multitasking>=0.0.7 in /usr/local/lib/python3.7/dist-packages (from yfinance) (0.0.11)\n",
            "Requirement already satisfied: lxml>=4.5.1 in /usr/local/lib/python3.7/dist-packages (from yfinance) (4.9.1)\n",
            "Requirement already satisfied: numpy>=1.15 in /usr/local/lib/python3.7/dist-packages (from yfinance) (1.21.6)\n",
            "Collecting requests>=2.26\n",
            "  Downloading requests-2.28.1-py3-none-any.whl (62 kB)\n",
            "\u001b[K     |████████████████████████████████| 62 kB 547 kB/s \n",
            "\u001b[?25hRequirement already satisfied: appdirs>=1.4.4 in /usr/local/lib/python3.7/dist-packages (from yfinance) (1.4.4)\n",
            "Requirement already satisfied: python-dateutil>=2.7.3 in /usr/local/lib/python3.7/dist-packages (from pandas>=0.24.0->yfinance) (2.8.2)\n",
            "Requirement already satisfied: pytz>=2017.3 in /usr/local/lib/python3.7/dist-packages (from pandas>=0.24.0->yfinance) (2022.6)\n",
            "Requirement already satisfied: six>=1.5 in /usr/local/lib/python3.7/dist-packages (from python-dateutil>=2.7.3->pandas>=0.24.0->yfinance) (1.15.0)\n",
            "Requirement already satisfied: charset-normalizer<3,>=2 in /usr/local/lib/python3.7/dist-packages (from requests>=2.26->yfinance) (2.1.1)\n",
            "Requirement already satisfied: certifi>=2017.4.17 in /usr/local/lib/python3.7/dist-packages (from requests>=2.26->yfinance) (2022.9.24)\n",
            "Requirement already satisfied: idna<4,>=2.5 in /usr/local/lib/python3.7/dist-packages (from requests>=2.26->yfinance) (2.10)\n",
            "Requirement already satisfied: urllib3<1.27,>=1.21.1 in /usr/local/lib/python3.7/dist-packages (from requests>=2.26->yfinance) (1.24.3)\n",
            "Installing collected packages: requests, yfinance\n",
            "  Attempting uninstall: requests\n",
            "    Found existing installation: requests 2.23.0\n",
            "    Uninstalling requests-2.23.0:\n",
            "      Successfully uninstalled requests-2.23.0\n",
            "Successfully installed requests-2.28.1 yfinance-0.1.85\n",
            "Looking in indexes: https://pypi.org/simple, https://us-python.pkg.dev/colab-wheels/public/simple/\n",
            "Collecting xlsxwriter\n",
            "  Downloading XlsxWriter-3.0.3-py3-none-any.whl (149 kB)\n",
            "\u001b[K     |████████████████████████████████| 149 kB 4.4 MB/s \n",
            "\u001b[?25hInstalling collected packages: xlsxwriter\n",
            "Successfully installed xlsxwriter-3.0.3\n"
          ]
        }
      ],
      "source": [
        "!pip install yfinance\n",
        "!pip install xlsxwriter"
      ]
    },
    {
      "cell_type": "code",
      "execution_count": null,
      "metadata": {
        "colab": {
          "base_uri": "https://localhost:8080/"
        },
        "id": "0oM9aoJ4fAVP",
        "outputId": "03d496c7-ef99-4ebc-a1cf-27b8e0cd2de8"
      },
      "outputs": [
        {
          "output_type": "stream",
          "name": "stdout",
          "text": [
            "Cloning into 'Field-Project---Pairs-Trading'...\n",
            "remote: Enumerating objects: 20, done.\u001b[K\n",
            "remote: Counting objects: 100% (20/20), done.\u001b[K\n",
            "remote: Compressing objects: 100% (17/17), done.\u001b[K\n",
            "remote: Total 20 (delta 4), reused 0 (delta 0), pack-reused 0\u001b[K\n",
            "Unpacking objects: 100% (20/20), done.\n",
            "Field-Project---Pairs-Trading  sample_data\n"
          ]
        }
      ],
      "source": [
        "import pandas as pd\n",
        "import yfinance as yf\n",
        "import datetime\n",
        "import matplotlib.pyplot as plt\n",
        "import numpy as np\n",
        "import seaborn as sb\n",
        "import xlsxwriter\n",
        "import statsmodels.api as sm\n",
        "from statsmodels.regression.linear_model import OLS\n",
        "from statsmodels.tsa.stattools import adfuller\n",
        "from statsmodels.tsa.stattools import coint\n",
        "from sklearn.model_selection import train_test_split\n",
        "from statsmodels.tsa.stattools import kpss\n",
        "import warnings\n",
        "warnings.filterwarnings(\"ignore\")\n",
        "\n",
        "!git clone https://github.com/eualezandre/Field-Project---Pairs-Trading.git\n",
        "# clonamos um repositório no GitHub para acessar os dados sem precisar upar aqui no colab\n",
        "\n",
        "!ls\n",
        "\n",
        "sb.set_style('white')"
      ]
    },
    {
      "cell_type": "code",
      "execution_count": null,
      "metadata": {
        "id": "WBzdHc4G2Xgj"
      },
      "outputs": [],
      "source": [
        "def zscore(serie): # essa função aplica o z-score da série temporal inserida #mais infomação nas referências\n",
        " return (serie - serie.mean()) / np.std(serie)"
      ]
    },
    {
      "cell_type": "markdown",
      "metadata": {
        "id": "nFCnqmPVc9dZ"
      },
      "source": [
        "Para escolher os pares apropriados para a aplicação da estratégia, vamos olhar para todas ass ações do índice IBrX50, pois são as ações mais negociadas da bolsa e isso garante a liquidez necessária dos ativos para a aplicação da estratégia. \\\n",
        "Com eles, vamos rodar uma função para analisar todos os pares possíveis e identificar quais são cointegrados para a aplicação da estratégia."
      ]
    },
    {
      "cell_type": "code",
      "execution_count": null,
      "metadata": {
        "id": "aCQXeAU57fU5"
      },
      "outputs": [],
      "source": [
        "ibrx50 = pd.read_csv('/content/Field-Project---Pairs-Trading/IBXLDia_25-10-22.csv', sep=';', encoding='latin-1',skiprows=1) # lendo o csv"
      ]
    },
    {
      "cell_type": "code",
      "execution_count": null,
      "metadata": {
        "id": "RXFBHj4I8-u7"
      },
      "outputs": [],
      "source": [
        "tickers_list = list(ibrx50.index) # esse df da B3 tem no index as ações que compõem o índice das ações mais negociadas da bolsa, colocamos eles em uma lista\n",
        "tickers_list.pop() # remove a ultima observação, que não é um ticker\n",
        "tickers_list.pop() # fazemos de novo, porque a nova última observação também não é um ticker\n",
        "tickers=[]\n",
        "for i in tickers_list: # essa iteração adiciona \".SA\" ao final de toda string para baixarmos os dados depois no yfinance\n",
        "  i=i+'.SA'\n",
        "  tickers.append(i)"
      ]
    },
    {
      "cell_type": "code",
      "execution_count": null,
      "metadata": {
        "id": "U6Cr-NN9-NsD"
      },
      "outputs": [],
      "source": [
        "start='2021-10-25'\n",
        "end='2022-10-25'"
      ]
    },
    {
      "cell_type": "code",
      "execution_count": null,
      "metadata": {
        "id": "pAIUXZg--Uly",
        "colab": {
          "base_uri": "https://localhost:8080/"
        },
        "outputId": "a18b5452-b98d-4797-a5dc-b50c017d0fdb"
      },
      "outputs": [
        {
          "output_type": "stream",
          "name": "stdout",
          "text": [
            "[*********************100%***********************]  1 of 1 completed\n",
            "[*********************100%***********************]  1 of 1 completed\n",
            "[*********************100%***********************]  1 of 1 completed\n",
            "[*********************100%***********************]  1 of 1 completed\n",
            "[*********************100%***********************]  1 of 1 completed\n",
            "[*********************100%***********************]  1 of 1 completed\n",
            "[*********************100%***********************]  1 of 1 completed\n",
            "[*********************100%***********************]  1 of 1 completed\n",
            "[*********************100%***********************]  1 of 1 completed\n",
            "[*********************100%***********************]  1 of 1 completed\n",
            "[*********************100%***********************]  1 of 1 completed\n",
            "[*********************100%***********************]  1 of 1 completed\n",
            "[*********************100%***********************]  1 of 1 completed\n",
            "[*********************100%***********************]  1 of 1 completed\n",
            "[*********************100%***********************]  1 of 1 completed\n",
            "[*********************100%***********************]  1 of 1 completed\n",
            "[*********************100%***********************]  1 of 1 completed\n",
            "[*********************100%***********************]  1 of 1 completed\n",
            "[*********************100%***********************]  1 of 1 completed\n",
            "[*********************100%***********************]  1 of 1 completed\n",
            "[*********************100%***********************]  1 of 1 completed\n",
            "[*********************100%***********************]  1 of 1 completed\n",
            "[*********************100%***********************]  1 of 1 completed\n",
            "[*********************100%***********************]  1 of 1 completed\n",
            "[*********************100%***********************]  1 of 1 completed\n",
            "[*********************100%***********************]  1 of 1 completed\n",
            "[*********************100%***********************]  1 of 1 completed\n",
            "[*********************100%***********************]  1 of 1 completed\n",
            "[*********************100%***********************]  1 of 1 completed\n",
            "[*********************100%***********************]  1 of 1 completed\n",
            "[*********************100%***********************]  1 of 1 completed\n",
            "[*********************100%***********************]  1 of 1 completed\n",
            "[*********************100%***********************]  1 of 1 completed\n",
            "[*********************100%***********************]  1 of 1 completed\n",
            "[*********************100%***********************]  1 of 1 completed\n",
            "[*********************100%***********************]  1 of 1 completed\n",
            "[*********************100%***********************]  1 of 1 completed\n",
            "[*********************100%***********************]  1 of 1 completed\n",
            "[*********************100%***********************]  1 of 1 completed\n",
            "[*********************100%***********************]  1 of 1 completed\n",
            "[*********************100%***********************]  1 of 1 completed\n",
            "[*********************100%***********************]  1 of 1 completed\n",
            "[*********************100%***********************]  1 of 1 completed\n",
            "[*********************100%***********************]  1 of 1 completed\n",
            "[*********************100%***********************]  1 of 1 completed\n",
            "[*********************100%***********************]  1 of 1 completed\n",
            "[*********************100%***********************]  1 of 1 completed\n",
            "[*********************100%***********************]  1 of 1 completed\n",
            "[*********************100%***********************]  1 of 1 completed\n",
            "[*********************100%***********************]  1 of 1 completed\n"
          ]
        }
      ],
      "source": [
        "fechamentos = {}\n",
        "for i in tickers: # essa iteração baixa a série temporal de close das ações para todos os pares e armazena em um df\n",
        "  acao = yf.download(i,start,end)\n",
        "  acao.rename(columns={'Adj Close':i}, inplace=True)\n",
        "  fechamentos[i]=acao[i]\n",
        "fechamentos_df = pd.DataFrame(fechamentos)"
      ]
    },
    {
      "cell_type": "code",
      "execution_count": null,
      "metadata": {
        "id": "li5xkqXm-5DQ"
      },
      "outputs": [],
      "source": [
        "for i in fechamentos_df.columns: #essa iteração remove todas as ações que na série histórica tenha alguma observação faltando para não gerar problemas\n",
        "  if fechamentos_df[i].isnull().any():\n",
        "    fechamentos_df.drop(i,axis=1,inplace=True)"
      ]
    },
    {
      "cell_type": "code",
      "source": [
        "len(fechamentos_df.columns) # ativos restantes dos 50 iniciais"
      ],
      "metadata": {
        "id": "Gy2_3mZfcrm7",
        "colab": {
          "base_uri": "https://localhost:8080/"
        },
        "outputId": "362bc156-7bb3-42a2-bfd0-2108f204bf5a"
      },
      "execution_count": null,
      "outputs": [
        {
          "output_type": "execute_result",
          "data": {
            "text/plain": [
              "50"
            ]
          },
          "metadata": {},
          "execution_count": 10
        }
      ]
    },
    {
      "cell_type": "markdown",
      "source": [
        "# Elaborando funções"
      ],
      "metadata": {
        "id": "urmH-ITxMCIB"
      }
    },
    {
      "cell_type": "markdown",
      "metadata": {
        "id": "jmwymBz75YHJ"
      },
      "source": [
        "## Escolha de pares"
      ]
    },
    {
      "cell_type": "code",
      "execution_count": null,
      "metadata": {
        "id": "XvHYrChb_glB"
      },
      "outputs": [],
      "source": [
        "train, test = train_test_split(fechamentos_df, test_size=0.25, shuffle=False) # dividimos os dados disponíveis em treino e teste"
      ]
    },
    {
      "cell_type": "code",
      "execution_count": null,
      "metadata": {
        "id": "HveIY_a7_2DO"
      },
      "outputs": [],
      "source": [
        "def find_cointegrated_pairs(data): # essa função analisa todos os ativos e retorna pares cointegrados e os pvalues obtidos nos testes de cointegração\n",
        "    n = data.shape[1]\n",
        "    pvalue_matrix = np.ones((n, n))\n",
        "    keys = data.keys()\n",
        "    pairs = []\n",
        "    for i in range(n):\n",
        "        for j in range(i+1, n):\n",
        "            result = coint(data[keys[i]], data[keys[j]])\n",
        "            pvalue_matrix[i, j] = result[1]\n",
        "            if result[1] < 0.05:\n",
        "                pairs.append((keys[i], keys[j]))\n",
        "    return pvalue_matrix, pairs"
      ]
    },
    {
      "cell_type": "code",
      "execution_count": null,
      "metadata": {
        "id": "n2LuifEpAIkU",
        "colab": {
          "base_uri": "https://localhost:8080/"
        },
        "outputId": "fc27623b-c9e5-4f53-90c0-3c50ab47a8aa"
      },
      "outputs": [
        {
          "output_type": "execute_result",
          "data": {
            "text/plain": [
              "86"
            ]
          },
          "metadata": {},
          "execution_count": 13
        }
      ],
      "source": [
        "pvalues, pairs = find_cointegrated_pairs(train)\n",
        "len(pairs) # número de pares cointegrados encontrados"
      ]
    },
    {
      "cell_type": "markdown",
      "metadata": {
        "id": "7g4X5g5Ws7VX"
      },
      "source": [
        "## Treinando cada par"
      ]
    },
    {
      "cell_type": "markdown",
      "metadata": {
        "id": "84ncjxzo1XVn"
      },
      "source": [
        "O treinamento consiste na regressão linear do par para obter o parâmetro beta, que é o coeficiente angular da reta."
      ]
    },
    {
      "cell_type": "code",
      "execution_count": null,
      "metadata": {
        "id": "BFUDDfZKs9Ga"
      },
      "outputs": [],
      "source": [
        "def train_pair(pair): # a função recebe uma tupla de duas séries temporais, que são as cotações dos ativos cointegrados, e retorna o beta da regressão linear\n",
        "  model = sm.OLS(train[pair[0]], train[pair[1]]).fit()\n",
        "  beta = model.params[0]\n",
        "  return beta"
      ]
    },
    {
      "cell_type": "code",
      "execution_count": null,
      "metadata": {
        "id": "CR2BT4nhtPHS"
      },
      "outputs": [],
      "source": [
        "betas = {}\n",
        "for i in pairs: # essa iteração armazena todos os betas em um dicionário, onde as chaves são as tuplas com os pares e os respectivos valores são os betas\n",
        "  betas[i] = train_pair(i)"
      ]
    },
    {
      "cell_type": "markdown",
      "metadata": {
        "id": "fzjQz2L-yQDn"
      },
      "source": [
        "## Aplicando estratégia para todos os pares em um momento no tempo"
      ]
    },
    {
      "cell_type": "code",
      "source": [
        "def backtest_spread(pair,data): # essa função roda o backtest para um par e retorna a rentabilidade, um df de trades e um df de performance do portfolio\n",
        "  fee=0.000225\n",
        "  sinais_spread = pd.DataFrame()\n",
        "  sinais_spread[pair[0]]=data[pair[0]]\n",
        "  sinais_spread[pair[1]]=data[pair[1]]\n",
        "  spread_test = sinais_spread[pair[0]]-betas[pair]*sinais_spread[pair[1]]\n",
        "\n",
        "  sinais_spread['z'] = zscore(spread_test)\n",
        "  sinais_spread['z limite superior'] = np.mean(sinais_spread['z']) + 1*np.std(sinais_spread['z']) # abre com um desvio padrão\n",
        "  sinais_spread['z fecha superior'] = np.mean(sinais_spread['z']) + 0.5*np.std(sinais_spread['z']) # fecha em meio desvio padrão\n",
        "  sinais_spread['z limite inferior'] = np.mean(sinais_spread['z']) - 1*np.std(sinais_spread['z'])\n",
        "  sinais_spread['z fecha inferior'] = np.mean(sinais_spread['z']) - 0.5*np.std(sinais_spread['z'])\n",
        "  stop_loss=5\n",
        "\n",
        "  sinais_spread['sinais1'] = 0\n",
        "  sinais_spread['sinais2'] = 0\n",
        "  sinais_spread['posicoes1'] = 0\n",
        "  sinais_spread['posicoes2'] = 0\n",
        "  for t in range(0, len(sinais_spread)):\n",
        "    # caso haja sinal no primeiro dia\n",
        "    if t == 0 and sinais_spread['z'][t]>1:\n",
        "      sinais_spread['sinais1'][t] = -1\n",
        "      sinais_spread['sinais2'][t] = 1\n",
        "      sinais_spread['posicoes1'][t] = -1\n",
        "      sinais_spread['posicoes2'][t] = 1\n",
        "    elif t == 0 and sinais_spread['z'][t]<-1:\n",
        "      sinais_spread['sinais1'][t] = 1\n",
        "      sinais_spread['sinais2'][t] = -1\n",
        "      sinais_spread['posicoes1'][t] = 1\n",
        "      sinais_spread['posicoes2'][t] = -1\n",
        "    # casos específicos de z negativo para positivo\n",
        "    elif 0 > sinais_spread['z'][t-1] > sinais_spread['z fecha inferior'][t-1] and stop_loss > sinais_spread['z'][t] > sinais_spread['z limite superior'][t]:\n",
        "      sinais_spread['sinais1'][t] = -1\n",
        "      sinais_spread['sinais2'][t] = 1\n",
        "      sinais_spread['posicoes1'][t] = -1\n",
        "      sinais_spread['posicoes2'][t] = 1\n",
        "    elif sinais_spread['sinais1'][t-1] == 1 and stop_loss > sinais_spread['z'][t] > 0:\n",
        "      sinais_spread['sinais1'][t] = 0\n",
        "      sinais_spread['sinais2'][t] = 0\n",
        "      sinais_spread['posicoes1'][t] = -1\n",
        "      sinais_spread['posicoes2'][t] = 1\n",
        "    elif sinais_spread['sinais1'][t-1] == 0 and sinais_spread['z limite superior'][t] > sinais_spread['z'][t] > 0:\n",
        "      sinais_spread['sinais1'][t] = 0\n",
        "      sinais_spread['sinais2'][t] = 0\n",
        "      sinais_spread['posicoes1'][t] = 0\n",
        "      sinais_spread['posicoes2'][t] = 0\n",
        "    # casos específicos de z positivo para negativo\n",
        "    elif (0 < sinais_spread['z'][t-1] or sinais_spread['z'][t-1] > sinais_spread['z fecha superior'][t-1]) and sinais_spread['z limite inferior'][t] > sinais_spread['z'][t] and sinais_spread['z'][t] > -stop_loss: # caso a linha anterior esteja negativa e em operação e a atual dê compra, então apenas feche a operação\n",
        "      sinais_spread['sinais1'][t] = 1\n",
        "      sinais_spread['sinais2'][t] = -1\n",
        "      sinais_spread['posicoes1'][t] = 1\n",
        "      sinais_spread['posicoes2'][t] = -1\n",
        "    elif sinais_spread['sinais1'][t-1] == -1 and sinais_spread['z'][t] < 0:\n",
        "      sinais_spread['sinais1'][t] = 0\n",
        "      sinais_spread['sinais2'][t] = 0\n",
        "      sinais_spread['posicoes1'][t] = 1\n",
        "      sinais_spread['posicoes2'][t] = -1\n",
        "    elif sinais_spread['sinais1'][t-1] == 0 and sinais_spread['z limite inferior'][t] < sinais_spread['z'][t] <0:\n",
        "      sinais_spread['sinais1'][t] = 0\n",
        "      sinais_spread['sinais2'][t] = 0\n",
        "      sinais_spread['posicoes1'][t] = 0\n",
        "      sinais_spread['posicoes2'][t] = 0\n",
        "    # entrada para valores positivos\n",
        "    elif stop_loss > sinais_spread['z'][t] > sinais_spread['z limite superior'][t] :\n",
        "      sinais_spread['sinais1'][t]= -1\n",
        "      sinais_spread['sinais2'][t]= 1\n",
        "      if sinais_spread['sinais1'][t-1] == 0:\n",
        "        sinais_spread['posicoes1'][t] = -1\n",
        "        sinais_spread['posicoes2'][t] = 1\n",
        "    # entrada para valores negativos\n",
        "    elif sinais_spread['z limite inferior'][t] > sinais_spread['z'][t] and sinais_spread['z'][t] > -stop_loss: #entrada\n",
        "      sinais_spread['sinais1'][t] = 1\n",
        "      sinais_spread['sinais2'][t]= -1\n",
        "      if sinais_spread['sinais1'][t-1] == 0:\n",
        "        sinais_spread['posicoes1'][t] = 1\n",
        "        sinais_spread['posicoes2'][t] = -1\n",
        "    # saida para valores positivos\n",
        "    elif 0 < sinais_spread['z'][t] < sinais_spread['z fecha superior'][t]:\n",
        "      sinais_spread['sinais1'][t] = 0\n",
        "      sinais_spread['sinais2'][t] = 0\n",
        "      if sinais_spread['sinais1'][t-1] == -1:\n",
        "        sinais_spread['posicoes1'][t] = 1\n",
        "        sinais_spread['posicoes2'][t] = -1\n",
        "    # saida para valores negativos\n",
        "    elif -stop_loss < sinais_spread['z fecha inferior'][t] < sinais_spread['z'][t] < 0:\n",
        "      sinais_spread['sinais1'][t] = 0\n",
        "      sinais_spread['sinais2'][t] = 0\n",
        "      if sinais_spread['sinais1'][t-1] == 1:\n",
        "        sinais_spread['posicoes1'][t] = -1\n",
        "        sinais_spread['posicoes2'][t] = 1\n",
        "    # preenchendos os intervalos que faltaram\n",
        "    elif sinais_spread['z limite inferior'][t] < sinais_spread['z'][t] < sinais_spread['z fecha inferior'][t]:\n",
        "      if sinais_spread['z'][t-1] > sinais_spread['z fecha superior'][t-1]:\n",
        "        sinais_spread['posicoes1'][t] = 1\n",
        "        sinais_spread['posicoes2'][t] = -1\n",
        "      elif sinais_spread['sinais1'][t-1] == 1 and sinais_spread['sinais2'][t-1]==-1:\n",
        "        sinais_spread['sinais1'][t] = 1\n",
        "        sinais_spread['sinais2'][t]= -1\n",
        "    elif sinais_spread['z fecha superior'][t] < sinais_spread['z'][t] < sinais_spread['z limite superior'][t]:\n",
        "      if 0 < sinais_spread['z'][t-1] < sinais_spread['z fecha inferior'][t-1]:\n",
        "        sinais_spread['posicoes1'][t] = -1\n",
        "        sinais_spread['posicoes2'][t] = 1\n",
        "      elif sinais_spread['sinais1'][t-1] == -1 and sinais_spread['sinais2'][t-1]== 1:\n",
        "        sinais_spread['sinais1'][t]= -1\n",
        "        sinais_spread['sinais2'][t]= 1\n",
        "    # stop loss\n",
        "    elif stop_loss < sinais_spread['z'][t] or -stop_loss > sinais_spread['z'][t] :\n",
        "      if sinais_spread['z'][t] > stop_loss:\n",
        "        sinais_spread['sinais1'][t] = 0\n",
        "        sinais_spread['sinais2'][t] = 0\n",
        "        sinais_spread['posicoes1'][t] = 0\n",
        "        sinais_spread['posicoes2'][t] = 0\n",
        "        if sinais_spread['sinais1'][t-1] == -1:\n",
        "          sinais_spread['posicoes1'][t] = 1\n",
        "          sinais_spread['posicoes2'][t] = -1\n",
        "      if sinais_spread['z'][t] < -stop_loss:\n",
        "        sinais_spread['sinais1'][t] = 0\n",
        "        sinais_spread['sinais2'][t] = 0\n",
        "        sinais_spread['posicoes1'][t] = 0\n",
        "        sinais_spread['posicoes2'][t] = 0\n",
        "        if sinais_spread['sinais1'][t-1] == 1:\n",
        "          sinais_spread['posicoes1'][t] = -1\n",
        "          sinais_spread['posicoes2'][t] = 1\n",
        "  if t == len(sinais_spread)-1 and sinais_spread['sinais1'][t] == -1 and sinais_spread['posicoes1'][t] == 0:\n",
        "    sinais_spread['posicoes1'][t] = 1\n",
        "    sinais_spread['posicoes2'][t] = -1\n",
        "  if t == len(sinais_spread)-1 and sinais_spread['sinais1'][t] == 1 and sinais_spread['posicoes1'][t] == 0:\n",
        "    sinais_spread['posicoes1'][t] = -1\n",
        "    sinais_spread['posicoes2'][t] = 1\n",
        "\n",
        "  capital_inicial=100000\n",
        "\n",
        "  posicoes1 = capital_inicial// (2*max(train[pair[0]])) # Qual a explicação?\n",
        "  posicoes2 = capital_inicial// (2*max(train[pair[1]]))\n",
        "\n",
        "  portfolio_spread = pd.DataFrame()\n",
        "  portfolio_spread[pair[0]] = data[pair[0]] # Recebe os preços\n",
        "  portfolio_spread['holdings1'] = sinais_spread['posicoes1'].cumsum()*sinais_spread[pair[0]]*posicoes1 #O primeiro fator indica a duração da posição, o segundo é preço e o terceiro é número de ações\n",
        "  portfolio_spread['cash1'] = (capital_inicial)/2 - (sinais_spread['posicoes1']*sinais_spread[pair[0]]*posicoes1).cumsum()\n",
        "  portfolio_spread['total ativo1'] = portfolio_spread['holdings1'] + portfolio_spread['cash1']\n",
        "  portfolio_spread['retorno1'] = portfolio_spread['total ativo1'].pct_change()\n",
        "  portfolio_spread['posicoes1'] = sinais_spread['posicoes1']\n",
        "\n",
        "  portfolio_spread[pair[1]] = data[pair[1]]\n",
        "  portfolio_spread['holdings2'] = sinais_spread['posicoes2'].cumsum() * sinais_spread[pair[1]] * posicoes2\n",
        "  portfolio_spread['cash2'] = (capital_inicial)/2 - (sinais_spread['posicoes2'] * sinais_spread[pair[1]] * posicoes2).cumsum()\n",
        "  portfolio_spread['total ativo2'] = portfolio_spread['holdings2'] + portfolio_spread['cash2']\n",
        "  portfolio_spread['retorno2'] = portfolio_spread['total ativo2'].pct_change()\n",
        "  portfolio_spread['posicoes2'] = sinais_spread['posicoes2']\n",
        "\n",
        "  portfolio_spread['z'] = sinais_spread['z']\n",
        "  portfolio_spread['total ativos'] = portfolio_spread['total ativo1'] + portfolio_spread['total ativo2']\n",
        "  portfolio_spread['z limite superior'] = sinais_spread['z limite superior']\n",
        "  portfolio_spread['z limite inferior'] = sinais_spread['z limite inferior']\n",
        "  portfolio_spread['z fecha superior'] = sinais_spread['z fecha superior']\n",
        "  portfolio_spread['z fecha inferior'] = sinais_spread['z fecha inferior']\n",
        "\n",
        "  return (portfolio_spread['total ativos'].iloc[-1]*(1-fee)-portfolio_spread['total ativos'].iloc[0])/capital_inicial, sinais_spread, portfolio_spread"
      ],
      "metadata": {
        "id": "hhyoo_QrHxMg"
      },
      "execution_count": null,
      "outputs": []
    },
    {
      "cell_type": "code",
      "execution_count": null,
      "metadata": {
        "id": "Yo-p-cvh1UF0"
      },
      "outputs": [],
      "source": [
        "resultados_spread = {} #armazena rentabilidades\n",
        "trades_spread = {} #armazena dados de sinais e posições no tempo\n",
        "results_spread = {} #armazena dados de cash, hold e valor do portfólio no tempo\n",
        "for i in pairs: # essa iteração preenche os dicionários\n",
        "  resultados_spread[i],trades_spread[i],results_spread[i]=backtest_spread(i,test)"
      ]
    },
    {
      "cell_type": "code",
      "execution_count": null,
      "metadata": {
        "id": "pv3kYm-LA5EL"
      },
      "outputs": [],
      "source": [
        "def view_trades_spread(pair): # essa função retorna um gráfico dos trades realizados\n",
        "  lucro, sinais_spread, portfolio_spread = backtest_spread(pair,test)\n",
        "  fig=plt.figure(figsize=(14,6))\n",
        "  bx = fig.add_subplot(1,1,1)\n",
        "  l1, = bx.plot(sinais_spread[pair[0]], c='#003E7E',alpha=0.7)\n",
        "  l2, = bx.plot(sinais_spread[pair[1]], c='#F7A51B',alpha=0.7)\n",
        "  u1, = bx.plot(sinais_spread[pair[0]][sinais_spread['posicoes1'] == 1], lw=0, marker='^', markersize=8, c='g',alpha=0.7)\n",
        "  d1, = bx.plot(sinais_spread[pair[0]][sinais_spread['posicoes1'] == -1], lw=0,marker=\"v\",markersize=8, c='r',alpha=0.7)\n",
        "  u2, = bx.plot(sinais_spread[pair[1]][sinais_spread['posicoes2'] == 1], lw=0,marker=\"^\",markersize=8, c='g',alpha=0.7)\n",
        "  d2, = bx.plot(sinais_spread[pair[1]][sinais_spread['posicoes2'] == -1], lw=0,marker=\"v\",markersize=8, c='r',alpha=0.7)\n",
        "  bx.set_ylabel('Preço')\n",
        "  bx.yaxis.labelpad=15\n",
        "  bx.set_xlabel('Data')\n",
        "  bx.xaxis.labelpad=15\n",
        "  plt.legend([l1,l2,u1,d1,u2,d2], [pair[0], pair[1],'LONG {}'.format(pair[0]),\n",
        "            'SHORT {}'.format(pair[0]),\n",
        "            'LONG {}'.format(pair[1]),\n",
        "            'SHORT {}'.format(pair[1])], loc ='best')\n",
        "  plt.title('Pair Trading')\n",
        "  plt.xlabel('Data')\n",
        "\n",
        "  plt.tight_layout()"
      ]
    },
    {
      "cell_type": "code",
      "source": [
        "pairs"
      ],
      "metadata": {
        "colab": {
          "base_uri": "https://localhost:8080/"
        },
        "id": "Xou--zmMyVol",
        "outputId": "34160448-2892-42eb-836d-c5b06689a64c"
      },
      "execution_count": null,
      "outputs": [
        {
          "output_type": "execute_result",
          "data": {
            "text/plain": [
              "[('ABEV3.SA', 'BRML3.SA'),\n",
              " ('ABEV3.SA', 'BBAS3.SA'),\n",
              " ('ABEV3.SA', 'PETR3.SA'),\n",
              " ('ABEV3.SA', 'PETR4.SA'),\n",
              " ('ABEV3.SA', 'VALE3.SA'),\n",
              " ('AMER3.SA', 'BRFS3.SA'),\n",
              " ('AMER3.SA', 'HAPV3.SA'),\n",
              " ('AMER3.SA', 'RADL3.SA'),\n",
              " ('B3SA3.SA', 'ITSA4.SA'),\n",
              " ('B3SA3.SA', 'VALE3.SA'),\n",
              " ('BBSE3.SA', 'BBAS3.SA'),\n",
              " ('BBSE3.SA', 'MULT3.SA'),\n",
              " ('BRML3.SA', 'EMBR3.SA'),\n",
              " ('BRML3.SA', 'VALE3.SA'),\n",
              " ('BBDC4.SA', 'BBAS3.SA'),\n",
              " ('BBDC4.SA', 'CCRO3.SA'),\n",
              " ('BBDC4.SA', 'EMBR3.SA'),\n",
              " ('BBDC4.SA', 'GGBR4.SA'),\n",
              " ('BBDC4.SA', 'RENT3.SA'),\n",
              " ('BBDC4.SA', 'MULT3.SA'),\n",
              " ('BBDC4.SA', 'PETR3.SA'),\n",
              " ('BBDC4.SA', 'PETR4.SA'),\n",
              " ('BBDC4.SA', 'VALE3.SA'),\n",
              " ('BBDC4.SA', 'WEGE3.SA'),\n",
              " ('BBAS3.SA', 'BRFS3.SA'),\n",
              " ('BBAS3.SA', 'EMBR3.SA'),\n",
              " ('BRKM5.SA', 'PRIO3.SA'),\n",
              " ('BRFS3.SA', 'EMBR3.SA'),\n",
              " ('BRFS3.SA', 'MULT3.SA'),\n",
              " ('BPAC11.SA', 'EQTL3.SA'),\n",
              " ('BPAC11.SA', 'ITUB4.SA'),\n",
              " ('CCRO3.SA', 'EMBR3.SA'),\n",
              " ('CCRO3.SA', 'MULT3.SA'),\n",
              " ('CCRO3.SA', 'PETR4.SA'),\n",
              " ('CSAN3.SA', 'ITSA4.SA'),\n",
              " ('CSAN3.SA', 'ITUB4.SA'),\n",
              " ('CSAN3.SA', 'KLBN11.SA'),\n",
              " ('CSAN3.SA', 'RENT3.SA'),\n",
              " ('CSAN3.SA', 'CSNA3.SA'),\n",
              " ('CSAN3.SA', 'VALE3.SA'),\n",
              " ('CSAN3.SA', 'VBBR3.SA'),\n",
              " ('CVCB3.SA', 'MGLU3.SA'),\n",
              " ('CVCB3.SA', 'VIIA3.SA'),\n",
              " ('EMBR3.SA', 'MULT3.SA'),\n",
              " ('GGBR4.SA', 'MGLU3.SA'),\n",
              " ('GGBR4.SA', 'VIIA3.SA'),\n",
              " ('JBSS3.SA', 'LREN3.SA'),\n",
              " ('JBSS3.SA', 'MGLU3.SA'),\n",
              " ('JBSS3.SA', 'VIIA3.SA'),\n",
              " ('RENT3.SA', 'VALE3.SA'),\n",
              " ('PETR3.SA', 'PETR4.SA'),\n",
              " ('RADL3.SA', 'CSNA3.SA'),\n",
              " ('RADL3.SA', 'VBBR3.SA'),\n",
              " ('CSNA3.SA', 'USIM5.SA'),\n",
              " ('VIIA3.SA', 'WEGE3.SA')]"
            ]
          },
          "metadata": {},
          "execution_count": 36
        }
      ]
    },
    {
      "cell_type": "code",
      "execution_count": null,
      "metadata": {
        "colab": {
          "base_uri": "https://localhost:8080/",
          "height": 441
        },
        "id": "V0GX1LmWA8XJ",
        "outputId": "6f3852e7-b014-4550-eb0d-054bf8e7ac4a"
      },
      "outputs": [
        {
          "output_type": "display_data",
          "data": {
            "text/plain": [
              "<Figure size 1008x432 with 1 Axes>"
            ],
            "image/png": "[encoded data removed]"
          },
          "metadata": {}
        }
      ],
      "source": [
        "view_trades_spread(('BPAC11.SA', 'ITUB4.SA')) #exemplo da função para um par aleatório"
      ]
    },
    {
      "cell_type": "code",
      "execution_count": null,
      "metadata": {
        "id": "jrtqHETEBCBs"
      },
      "outputs": [],
      "source": [
        "def performance_spread(pair): # essa função retorna um gráfico com a performance do portfólio usando o spread como métrica dado um par\n",
        "  lucro, sinais_spread, portfolio_spread = backtest_spread(pair,test)\n",
        "  fig = plt.figure(figsize=(14,6),)\n",
        "  ax = fig.add_subplot(111)\n",
        "  ax2 = ax.twinx()\n",
        "  l1, = ax.plot(portfolio_spread['total ativos'], c='#3CB81D')\n",
        "  l2, = ax2.plot(portfolio_spread['z'], c='black',alpha=0.5)\n",
        "  b = ax2.fill_between(portfolio_spread.index,portfolio_spread['z limite superior'],portfolio_spread['z limite inferior'],alpha=0.15,color='gray')\n",
        "  c = ax2.fill_between(portfolio_spread.index,portfolio_spread['z fecha superior'],portfolio_spread['z fecha inferior'],alpha=0.15,color='#003F7D')\n",
        "  ax.set_ylabel('Valor do Portfólio')\n",
        "  ax2.set_ylabel('Z-score do spread',rotation=270)\n",
        "  ax.yaxis.labelpad=15\n",
        "  ax2.yaxis.labelpad=15\n",
        "  ax.set_xlabel('Data')\n",
        "  ax.xaxis.labelpad=15\n",
        "  plt.title('Desempenho do Par')\n",
        "  plt.legend([l2,b,l1],['Z-score do spread','Região de trade','Valor Total do Portfólio'],loc='upper left');"
      ]
    },
    {
      "cell_type": "code",
      "execution_count": null,
      "metadata": {
        "colab": {
          "base_uri": "https://localhost:8080/",
          "height": 415
        },
        "id": "1x0SebpABpi5",
        "outputId": "196be558-ae5a-417b-ceee-1848b510dccc"
      },
      "outputs": [
        {
          "output_type": "display_data",
          "data": {
            "text/plain": [
              "<Figure size 1008x432 with 2 Axes>"
            ],
            "image/png": "[encoded data removed]"
          },
          "metadata": {}
        }
      ],
      "source": [
        "performance_spread(('BPAC11.SA', 'ITUB4.SA')) #exemplo da função para um par aleatório"
      ]
    },
    {
      "cell_type": "markdown",
      "source": [
        "# Estratégia"
      ],
      "metadata": {
        "id": "MLF_IfUTaM_K"
      }
    },
    {
      "cell_type": "markdown",
      "source": [
        "Vamos criar uma função para rodar a estratégia. Ela recebe a base de dados, a janela de dias de treino+teste e o tamanho do teste. Veja uma imagem que descreve o que essa função faz:\n",
        "\n",
        "\n",
        "Essa função faz o seguinte:\n",
        "![Captura de tela 2022-11-09 101045.png](data:image/png;base64,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)\n",
        "\n",
        "1.   Olha para uma janela da base de dados de cada vez. Se a base de dados possui 2 anos e você escolhe um window_days=252 (1 ano) e um test_size=0.25, isto é, 25% do window_days, teremos um teste de 1 trimestre. Depois de rodar o teste, a janela toda se descoloca em 1 trimestre para operar no próximo trimestre, mas o período de treino também é deslocado. Assim, encontramos novos pares cointegrados e recalculamos os parâmetros para manter o período de teste eficiente.\n",
        "2.   A cada período de estimação, ela encontra os pares que são cointegrados e roda uma regressão linear para cada um para calcular o beta da regressão que servirá para o cálculo do spread, que é usado como critério para operar.\n",
        "3.   Rodamos a função de backtest para esses pares em cada período de estimação/treino, armazenamos os resultados e selecionamos os 20 pares que obtiveram as maiores rentabilidades do treino para serem operados no período de teste. Dessa maneira, filtramos e garantimos uma quantidade razoável de pares para operar.\n",
        "4.   Rodamos a mesma função de backtest no período de treino e armazenamos os resultados.\n",
        "5.   Deslocamos a janela em 1 teste para operar continuamente.\n"
      ],
      "metadata": {
        "id": "yyq4pVW5gA_C"
      }
    },
    {
      "cell_type": "code",
      "source": [
        "start='2019-11-09' # definimos o período\n",
        "end='2022-11-09'\n",
        "fechamentos_rolling = {}\n",
        "for i in tickers: # essa iteração baixa a série temporal de close das ações para todos os pares e armazena em um df\n",
        "  acao = yf.download(i,start,end)\n",
        "  acao.rename(columns={'Adj Close':i}, inplace=True)\n",
        "  fechamentos_rolling[i]=acao[i]\n",
        "fechamentos_rolling_df = pd.DataFrame(fechamentos_rolling)"
      ],
      "metadata": {
        "colab": {
          "base_uri": "https://localhost:8080/"
        },
        "id": "4U3otV1tdxQM",
        "outputId": "d71f03ed-9def-4b1f-b5b9-6aed23a911c2"
      },
      "execution_count": null,
      "outputs": [
        {
          "output_type": "stream",
          "name": "stdout",
          "text": [
            "[*********************100%***********************]  1 of 1 completed\n",
            "[*********************100%***********************]  1 of 1 completed\n",
            "[*********************100%***********************]  1 of 1 completed\n",
            "[*********************100%***********************]  1 of 1 completed\n",
            "[*********************100%***********************]  1 of 1 completed\n",
            "[*********************100%***********************]  1 of 1 completed\n",
            "[*********************100%***********************]  1 of 1 completed\n",
            "[*********************100%***********************]  1 of 1 completed\n",
            "[*********************100%***********************]  1 of 1 completed\n",
            "[*********************100%***********************]  1 of 1 completed\n",
            "[*********************100%***********************]  1 of 1 completed\n",
            "[*********************100%***********************]  1 of 1 completed\n",
            "[*********************100%***********************]  1 of 1 completed\n",
            "[*********************100%***********************]  1 of 1 completed\n",
            "[*********************100%***********************]  1 of 1 completed\n",
            "[*********************100%***********************]  1 of 1 completed\n",
            "[*********************100%***********************]  1 of 1 completed\n",
            "[*********************100%***********************]  1 of 1 completed\n",
            "[*********************100%***********************]  1 of 1 completed\n",
            "[*********************100%***********************]  1 of 1 completed\n",
            "[*********************100%***********************]  1 of 1 completed\n",
            "[*********************100%***********************]  1 of 1 completed\n",
            "[*********************100%***********************]  1 of 1 completed\n",
            "[*********************100%***********************]  1 of 1 completed\n",
            "[*********************100%***********************]  1 of 1 completed\n",
            "[*********************100%***********************]  1 of 1 completed\n",
            "[*********************100%***********************]  1 of 1 completed\n",
            "[*********************100%***********************]  1 of 1 completed\n",
            "[*********************100%***********************]  1 of 1 completed\n",
            "[*********************100%***********************]  1 of 1 completed\n",
            "[*********************100%***********************]  1 of 1 completed\n",
            "[*********************100%***********************]  1 of 1 completed\n",
            "[*********************100%***********************]  1 of 1 completed\n",
            "[*********************100%***********************]  1 of 1 completed\n",
            "[*********************100%***********************]  1 of 1 completed\n",
            "[*********************100%***********************]  1 of 1 completed\n",
            "[*********************100%***********************]  1 of 1 completed\n",
            "[*********************100%***********************]  1 of 1 completed\n",
            "[*********************100%***********************]  1 of 1 completed\n",
            "[*********************100%***********************]  1 of 1 completed\n",
            "[*********************100%***********************]  1 of 1 completed\n",
            "[*********************100%***********************]  1 of 1 completed\n",
            "[*********************100%***********************]  1 of 1 completed\n",
            "[*********************100%***********************]  1 of 1 completed\n",
            "[*********************100%***********************]  1 of 1 completed\n",
            "[*********************100%***********************]  1 of 1 completed\n",
            "[*********************100%***********************]  1 of 1 completed\n",
            "[*********************100%***********************]  1 of 1 completed\n",
            "[*********************100%***********************]  1 of 1 completed\n",
            "[*********************100%***********************]  1 of 1 completed\n"
          ]
        }
      ]
    },
    {
      "cell_type": "code",
      "source": [
        "for i in fechamentos_rolling_df.columns: #essa iteração remove todas as ações que na série histórica tenha alguma observação faltando para não gerar problemas\n",
        "  if fechamentos_rolling_df[i].isnull().any():\n",
        "    fechamentos_rolling_df.drop(i,axis=1,inplace=True)"
      ],
      "metadata": {
        "id": "lA-wD4_PeOFy"
      },
      "execution_count": null,
      "outputs": []
    },
    {
      "cell_type": "code",
      "source": [
        "len(fechamentos_rolling_df.columns) # número de ativos restantes dos 50 iniciais"
      ],
      "metadata": {
        "colab": {
          "base_uri": "https://localhost:8080/"
        },
        "id": "JAYJeS1leSaI",
        "outputId": "85069b6a-c20c-4728-a133-ea11c6c46d51"
      },
      "execution_count": null,
      "outputs": [
        {
          "output_type": "execute_result",
          "data": {
            "text/plain": [
              "43"
            ]
          },
          "metadata": {},
          "execution_count": 24
        }
      ]
    },
    {
      "cell_type": "markdown",
      "source": [
        "Recomendação: data = fechamentos_rolling_df ; window_days = 252 ; test_size = 0.25"
      ],
      "metadata": {
        "id": "2r3vhez3jN7j"
      }
    },
    {
      "cell_type": "code",
      "source": [
        "window_days = 252\n",
        "test_size = 0.25\n",
        "\n",
        "returns_rolling = {}\n",
        "executed_tests = {}\n",
        "treino = []\n",
        "teste = []\n",
        "pares_usados = []\n",
        "lucros = []\n",
        "for i in range(int(len(fechamentos_rolling_df)//(window_days*test_size)-((1-test_size)*window_days)/(window_days*test_size))):\n",
        "  window = fechamentos_rolling_df.iloc[int(i*(window_days*test_size)):int(i*(window_days*test_size)+window_days)] # andando de trimestre em trimestre\n",
        "  train, test = train_test_split(window, test_size=test_size, shuffle=False)\n",
        "  treino.append(train.index[0].strftime('%d/%m/%Y')+' até '+train.index[-1].strftime('%d/%m/%Y'))\n",
        "  teste.append(test.index[0].strftime('%d/%m/%Y')+' até '+test.index[-1].strftime('%d/%m/%Y'))\n",
        "  pvalues, pairs = find_cointegrated_pairs(train)\n",
        "  betas = {}\n",
        "  for j in pairs: # essa iteração armazena todos os betas em um dicionário, onde as chaves são as tuplas com os pares e os respectivos valores são os betas\n",
        "    betas[j] = train_pair(j)\n",
        "  results_train = {}\n",
        "  trades_train = {}\n",
        "  portfolio_train = {}\n",
        "\n",
        "  for j in pairs: # essa iteração preenche os dicionários\n",
        "    results_train[j],trades_train[j],portfolio_train[j]=backtest_spread(j,train) # rodamos o backtest no treino para selecionar os melhores pares para o teste\n",
        "\n",
        "\n",
        "\n",
        "  best_pairs = list(dict(list({k: v for k, v in sorted(results_train.items(), key=lambda item: item[1])}.items())[-20:]).keys()) # pegamos os 20 pares que mais renderam\n",
        "\n",
        "  pares_usados.append(best_pairs)\n",
        "\n",
        "  results_test = {}\n",
        "  trades_test = {}\n",
        "  portfolio_test = {}\n",
        "  for j in best_pairs: # essa iteração preenche os dicionários\n",
        "    results_test[j],trades_test[j],portfolio_test[j]=backtest_spread(j,test) # rodamos o backtest no test para os pares que apresentarem maiores retornos no treino\n",
        "  lucros.append(np.array(list(results_test.values())).mean())\n",
        "  executed_tests[i] = [results_test,trades_test,portfolio_test]\n",
        "\n",
        "  returns_rolling[i] = sum(results_test.values())/len(results_test)"
      ],
      "metadata": {
        "id": "70w_w2BF9a3O"
      },
      "execution_count": null,
      "outputs": []
    },
    {
      "cell_type": "markdown",
      "source": [
        "Esse dicionário abaixo são os retornos médio obtidos para cada período de operação realizado."
      ],
      "metadata": {
        "id": "IhJ4Tg1YI9Q2"
      }
    },
    {
      "cell_type": "code",
      "source": [
        "returns_rolling"
      ],
      "metadata": {
        "colab": {
          "base_uri": "https://localhost:8080/"
        },
        "id": "issccrEeuvcU",
        "outputId": "8e816828-36b1-4548-e7fa-9aed1f5d91f0"
      },
      "execution_count": null,
      "outputs": [
        {
          "output_type": "execute_result",
          "data": {
            "text/plain": [
              "{0: 0.0854122607710991,\n",
              " 1: 0.07240517467495106,\n",
              " 2: 0.08036807194971439,\n",
              " 3: 0.05730746609344888,\n",
              " 4: 0.10530562516160251,\n",
              " 5: 0.09862575509007131,\n",
              " 6: 0.10343877895484313,\n",
              " 7: 0.06974652153292697}"
            ]
          },
          "metadata": {},
          "execution_count": 26
        }
      ]
    },
    {
      "cell_type": "markdown",
      "source": [
        "Com a lógica abaixo conseguimos acessar as informações de todos os trades realizados. O primeiro index de executed_tests se refere ao período de trade, por exemplo, se for 1 é o primeiro período de trade, se for 2 é o segundo e assim consecutivamente. O segundo index se refere ao tipo de infomação que queremos: 0 são as rentabilidades de cada par dado um período de teste; 1 são os sinais e posições realizadas; 2 são dados dos retornos de cada par. No que tanto 1 quanto 2 precisamos indicar de qual par se trata, por isso o terceiro index é essa lista, o index dessa lista pode ir de 0 a 19, correspondendo a cada par possível."
      ],
      "metadata": {
        "id": "PSqyu1p8IDct"
      }
    },
    {
      "cell_type": "code",
      "source": [
        "executed_tests[2][0] # primeiro período de operações, retornos de cada par"
      ],
      "metadata": {
        "colab": {
          "base_uri": "https://localhost:8080/"
        },
        "id": "BSn5f8D4J_pz",
        "outputId": "f58b29ed-921d-4807-f880-1539728ac1b3"
      },
      "execution_count": null,
      "outputs": [
        {
          "output_type": "execute_result",
          "data": {
            "text/plain": [
              "{('ABEV3.SA', 'BBDC4.SA'): 0.11010376412085025,\n",
              " ('RADL3.SA', 'RAIL3.SA'): 0.13584017030169093,\n",
              " ('BRML3.SA', 'GGBR4.SA'): 0.16062909420506447,\n",
              " ('BBDC4.SA', 'PETR3.SA'): 0.08103399073437066,\n",
              " ('MGLU3.SA', 'WEGE3.SA'): 0.055337646262104155,\n",
              " ('MGLU3.SA', 'RAIL3.SA'): 0.07244687311882991,\n",
              " ('BPAC11.SA', 'JBSS3.SA'): 0.09090236846914236,\n",
              " ('BRML3.SA', 'MGLU3.SA'): 0.06675927559857117,\n",
              " ('EQTL3.SA', 'MULT3.SA'): 0.07478820784851863,\n",
              " ('ELET3.SA', 'RAIL3.SA'): -0.0024273407532608834,\n",
              " ('MULT3.SA', 'RAIL3.SA'): 0.08398144124504597,\n",
              " ('MULT3.SA', 'PETR3.SA'): 0.13706226080136769,\n",
              " ('BPAC11.SA', 'SUZB3.SA'): -0.038293412019248234,\n",
              " ('CCRO3.SA', 'RAIL3.SA'): 0.054258228812953925,\n",
              " ('CVCB3.SA', 'VBBR3.SA'): 0.08782687637502258,\n",
              " ('BBAS3.SA', 'MULT3.SA'): 0.10910780928696785,\n",
              " ('ELET3.SA', 'MRFG3.SA'): 0.09927727420526906,\n",
              " ('ELET3.SA', 'JBSS3.SA'): 0.04902879877259466,\n",
              " ('MULT3.SA', 'VIIA3.SA'): 0.100138335766254,\n",
              " ('BRML3.SA', 'CCRO3.SA'): 0.07955977584217884}"
            ]
          },
          "metadata": {},
          "execution_count": 27
        }
      ]
    },
    {
      "cell_type": "code",
      "source": [
        "executed_tests[2][1][list(executed_tests[2][1].keys())[-2]] # segundo período de operações, sinais e posições para o par de índice 0"
      ],
      "metadata": {
        "colab": {
          "base_uri": "https://localhost:8080/",
          "height": 455
        },
        "id": "I_fv2w9BKRm8",
        "outputId": "02bdc7c6-64a4-4950-9d7e-6aedc96a014e"
      },
      "execution_count": null,
      "outputs": [
        {
          "output_type": "execute_result",
          "data": {
            "text/plain": [
              "             MULT3.SA  VIIA3.SA         z  z limite superior  \\\n",
              "Date                                                           \n",
              "2021-02-25  19.203924     12.61 -2.657781                1.0   \n",
              "2021-02-26  18.821377     11.87 -2.282792                1.0   \n",
              "2021-03-01  18.534464     12.11 -2.709257                1.0   \n",
              "2021-03-02  18.926577     12.02 -2.338290                1.0   \n",
              "2021-03-03  18.983959     11.92 -2.206707                1.0   \n",
              "...               ...       ...       ...                ...   \n",
              "2021-05-20  24.014469     11.91  1.533586                1.0   \n",
              "2021-05-21  23.450211     11.87  1.150654                1.0   \n",
              "2021-05-24  23.545849     12.46  0.696378                1.0   \n",
              "2021-05-25  23.890141     12.43  0.978463                1.0   \n",
              "2021-05-26  24.119669     12.51  1.077501                1.0   \n",
              "\n",
              "            z fecha superior  z limite inferior  z fecha inferior  sinais1  \\\n",
              "Date                                                                         \n",
              "2021-02-25               0.5               -1.0              -0.5        1   \n",
              "2021-02-26               0.5               -1.0              -0.5        1   \n",
              "2021-03-01               0.5               -1.0              -0.5        1   \n",
              "2021-03-02               0.5               -1.0              -0.5        1   \n",
              "2021-03-03               0.5               -1.0              -0.5        1   \n",
              "...                      ...                ...               ...      ...   \n",
              "2021-05-20               0.5               -1.0              -0.5       -1   \n",
              "2021-05-21               0.5               -1.0              -0.5       -1   \n",
              "2021-05-24               0.5               -1.0              -0.5       -1   \n",
              "2021-05-25               0.5               -1.0              -0.5       -1   \n",
              "2021-05-26               0.5               -1.0              -0.5       -1   \n",
              "\n",
              "            sinais2  posicoes1  posicoes2  \n",
              "Date                                       \n",
              "2021-02-25       -1          1         -1  \n",
              "2021-02-26       -1          0          0  \n",
              "2021-03-01       -1          0          0  \n",
              "2021-03-02       -1          0          0  \n",
              "2021-03-03       -1          0          0  \n",
              "...             ...        ...        ...  \n",
              "2021-05-20        1          0          0  \n",
              "2021-05-21        1          0          0  \n",
              "2021-05-24        1          0          0  \n",
              "2021-05-25        1          0          0  \n",
              "2021-05-26        1          1         -1  \n",
              "\n",
              "[63 rows x 11 columns]"
            ],
            "text/html": [
              "\n",
              "  <div id=\"df-f248ebc2-ef44-447d-bfc6-654f439aa8a3\">\n",
              "    <div class=\"colab-df-container\">\n",
              "      <div>\n",
              "<style scoped>\n",
              "    .dataframe tbody tr th:only-of-type {\n",
              "        vertical-align: middle;\n",
              "    }\n",
              "\n",
              "    .dataframe tbody tr th {\n",
              "        vertical-align: top;\n",
              "    }\n",
              "\n",
              "    .dataframe thead th {\n",
              "        text-align: right;\n",
              "    }\n",
              "</style>\n",
              "<table border=\"1\" class=\"dataframe\">\n",
              "  <thead>\n",
              "    <tr style=\"text-align: right;\">\n",
              "      <th></th>\n",
              "      <th>MULT3.SA</th>\n",
              "      <th>VIIA3.SA</th>\n",
              "      <th>z</th>\n",
              "      <th>z limite superior</th>\n",
              "      <th>z fecha superior</th>\n",
              "      <th>z limite inferior</th>\n",
              "      <th>z fecha inferior</th>\n",
              "      <th>sinais1</th>\n",
              "      <th>sinais2</th>\n",
              "      <th>posicoes1</th>\n",
              "      <th>posicoes2</th>\n",
              "    </tr>\n",
              "    <tr>\n",
              "      <th>Date</th>\n",
              "      <th></th>\n",
              "      <th></th>\n",
              "      <th></th>\n",
              "      <th></th>\n",
              "      <th></th>\n",
              "      <th></th>\n",
              "      <th></th>\n",
              "      <th></th>\n",
              "      <th></th>\n",
              "      <th></th>\n",
              "      <th></th>\n",
              "    </tr>\n",
              "  </thead>\n",
              "  <tbody>\n",
              "    <tr>\n",
              "      <th>2021-02-25</th>\n",
              "      <td>19.203924</td>\n",
              "      <td>12.61</td>\n",
              "      <td>-2.657781</td>\n",
              "      <td>1.0</td>\n",
              "      <td>0.5</td>\n",
              "      <td>-1.0</td>\n",
              "      <td>-0.5</td>\n",
              "      <td>1</td>\n",
              "      <td>-1</td>\n",
              "      <td>1</td>\n",
              "      <td>-1</td>\n",
              "    </tr>\n",
              "    <tr>\n",
              "      <th>2021-02-26</th>\n",
              "      <td>18.821377</td>\n",
              "      <td>11.87</td>\n",
              "      <td>-2.282792</td>\n",
              "      <td>1.0</td>\n",
              "      <td>0.5</td>\n",
              "      <td>-1.0</td>\n",
              "      <td>-0.5</td>\n",
              "      <td>1</td>\n",
              "      <td>-1</td>\n",
              "      <td>0</td>\n",
              "      <td>0</td>\n",
              "    </tr>\n",
              "    <tr>\n",
              "      <th>2021-03-01</th>\n",
              "      <td>18.534464</td>\n",
              "      <td>12.11</td>\n",
              "      <td>-2.709257</td>\n",
              "      <td>1.0</td>\n",
              "      <td>0.5</td>\n",
              "      <td>-1.0</td>\n",
              "      <td>-0.5</td>\n",
              "      <td>1</td>\n",
              "      <td>-1</td>\n",
              "      <td>0</td>\n",
              "      <td>0</td>\n",
              "    </tr>\n",
              "    <tr>\n",
              "      <th>2021-03-02</th>\n",
              "      <td>18.926577</td>\n",
              "      <td>12.02</td>\n",
              "      <td>-2.338290</td>\n",
              "      <td>1.0</td>\n",
              "      <td>0.5</td>\n",
              "      <td>-1.0</td>\n",
              "      <td>-0.5</td>\n",
              "      <td>1</td>\n",
              "      <td>-1</td>\n",
              "      <td>0</td>\n",
              "      <td>0</td>\n",
              "    </tr>\n",
              "    <tr>\n",
              "      <th>2021-03-03</th>\n",
              "      <td>18.983959</td>\n",
              "      <td>11.92</td>\n",
              "      <td>-2.206707</td>\n",
              "      <td>1.0</td>\n",
              "      <td>0.5</td>\n",
              "      <td>-1.0</td>\n",
              "      <td>-0.5</td>\n",
              "      <td>1</td>\n",
              "      <td>-1</td>\n",
              "      <td>0</td>\n",
              "      <td>0</td>\n",
              "    </tr>\n",
              "    <tr>\n",
              "      <th>...</th>\n",
              "      <td>...</td>\n",
              "      <td>...</td>\n",
              "      <td>...</td>\n",
              "      <td>...</td>\n",
              "      <td>...</td>\n",
              "      <td>...</td>\n",
              "      <td>...</td>\n",
              "      <td>...</td>\n",
              "      <td>...</td>\n",
              "      <td>...</td>\n",
              "      <td>...</td>\n",
              "    </tr>\n",
              "    <tr>\n",
              "      <th>2021-05-20</th>\n",
              "      <td>24.014469</td>\n",
              "      <td>11.91</td>\n",
              "      <td>1.533586</td>\n",
              "      <td>1.0</td>\n",
              "      <td>0.5</td>\n",
              "      <td>-1.0</td>\n",
              "      <td>-0.5</td>\n",
              "      <td>-1</td>\n",
              "      <td>1</td>\n",
              "      <td>0</td>\n",
              "      <td>0</td>\n",
              "    </tr>\n",
              "    <tr>\n",
              "      <th>2021-05-21</th>\n",
              "      <td>23.450211</td>\n",
              "      <td>11.87</td>\n",
              "      <td>1.150654</td>\n",
              "      <td>1.0</td>\n",
              "      <td>0.5</td>\n",
              "      <td>-1.0</td>\n",
              "      <td>-0.5</td>\n",
              "      <td>-1</td>\n",
              "      <td>1</td>\n",
              "      <td>0</td>\n",
              "      <td>0</td>\n",
              "    </tr>\n",
              "    <tr>\n",
              "      <th>2021-05-24</th>\n",
              "      <td>23.545849</td>\n",
              "      <td>12.46</td>\n",
              "      <td>0.696378</td>\n",
              "      <td>1.0</td>\n",
              "      <td>0.5</td>\n",
              "      <td>-1.0</td>\n",
              "      <td>-0.5</td>\n",
              "      <td>-1</td>\n",
              "      <td>1</td>\n",
              "      <td>0</td>\n",
              "      <td>0</td>\n",
              "    </tr>\n",
              "    <tr>\n",
              "      <th>2021-05-25</th>\n",
              "      <td>23.890141</td>\n",
              "      <td>12.43</td>\n",
              "      <td>0.978463</td>\n",
              "      <td>1.0</td>\n",
              "      <td>0.5</td>\n",
              "      <td>-1.0</td>\n",
              "      <td>-0.5</td>\n",
              "      <td>-1</td>\n",
              "      <td>1</td>\n",
              "      <td>0</td>\n",
              "      <td>0</td>\n",
              "    </tr>\n",
              "    <tr>\n",
              "      <th>2021-05-26</th>\n",
              "      <td>24.119669</td>\n",
              "      <td>12.51</td>\n",
              "      <td>1.077501</td>\n",
              "      <td>1.0</td>\n",
              "      <td>0.5</td>\n",
              "      <td>-1.0</td>\n",
              "      <td>-0.5</td>\n",
              "      <td>-1</td>\n",
              "      <td>1</td>\n",
              "      <td>1</td>\n",
              "      <td>-1</td>\n",
              "    </tr>\n",
              "  </tbody>\n",
              "</table>\n",
              "<p>63 rows × 11 columns</p>\n",
              "</div>\n",
              "      <button class=\"colab-df-convert\" onclick=\"convertToInteractive('df-f248ebc2-ef44-447d-bfc6-654f439aa8a3')\"\n",
              "              title=\"Convert this dataframe to an interactive table.\"\n",
              "              style=\"display:none;\">\n",
              "        \n",
              "  <svg xmlns=\"http://www.w3.org/2000/svg\" height=\"24px\"viewBox=\"0 0 24 24\"\n",
              "       width=\"24px\">\n",
              "    <path d=\"M0 0h24v24H0V0z\" fill=\"none\"/>\n",
              "    <path d=\"M18.56 5.44l.94 2.06.94-2.06 2.06-.94-2.06-.94-.94-2.06-.94 2.06-2.06.94zm-11 1L8.5 8.5l.94-2.06 2.06-.94-2.06-.94L8.5 2.5l-.94 2.06-2.06.94zm10 10l.94 2.06.94-2.06 2.06-.94-2.06-.94-.94-2.06-.94 2.06-2.06.94z\"/><path d=\"M17.41 7.96l-1.37-1.37c-.4-.4-.92-.59-1.43-.59-.52 0-1.04.2-1.43.59L10.3 9.45l-7.72 7.72c-.78.78-.78 2.05 0 2.83L4 21.41c.39.39.9.59 1.41.59.51 0 1.02-.2 1.41-.59l7.78-7.78 2.81-2.81c.8-.78.8-2.07 0-2.86zM5.41 20L4 18.59l7.72-7.72 1.47 1.35L5.41 20z\"/>\n",
              "  </svg>\n",
              "      </button>\n",
              "      \n",
              "  <style>\n",
              "    .colab-df-container {\n",
              "      display:flex;\n",
              "      flex-wrap:wrap;\n",
              "      gap: 12px;\n",
              "    }\n",
              "\n",
              "    .colab-df-convert {\n",
              "      background-color: #E8F0FE;\n",
              "      border: none;\n",
              "      border-radius: 50%;\n",
              "      cursor: pointer;\n",
              "      display: none;\n",
              "      fill: #1967D2;\n",
              "      height: 32px;\n",
              "      padding: 0 0 0 0;\n",
              "      width: 32px;\n",
              "    }\n",
              "\n",
              "    .colab-df-convert:hover {\n",
              "      background-color: #E2EBFA;\n",
              "      box-shadow: 0px 1px 2px rgba(60, 64, 67, 0.3), 0px 1px 3px 1px rgba(60, 64, 67, 0.15);\n",
              "      fill: #174EA6;\n",
              "    }\n",
              "\n",
              "    [theme=dark] .colab-df-convert {\n",
              "      background-color: #3B4455;\n",
              "      fill: #D2E3FC;\n",
              "    }\n",
              "\n",
              "    [theme=dark] .colab-df-convert:hover {\n",
              "      background-color: #434B5C;\n",
              "      box-shadow: 0px 1px 3px 1px rgba(0, 0, 0, 0.15);\n",
              "      filter: drop-shadow(0px 1px 2px rgba(0, 0, 0, 0.3));\n",
              "      fill: #FFFFFF;\n",
              "    }\n",
              "  </style>\n",
              "\n",
              "      <script>\n",
              "        const buttonEl =\n",
              "          document.querySelector('#df-f248ebc2-ef44-447d-bfc6-654f439aa8a3 button.colab-df-convert');\n",
              "        buttonEl.style.display =\n",
              "          google.colab.kernel.accessAllowed ? 'block' : 'none';\n",
              "\n",
              "        async function convertToInteractive(key) {\n",
              "          const element = document.querySelector('#df-f248ebc2-ef44-447d-bfc6-654f439aa8a3');\n",
              "          const dataTable =\n",
              "            await google.colab.kernel.invokeFunction('convertToInteractive',\n",
              "                                                     [key], {});\n",
              "          if (!dataTable) return;\n",
              "\n",
              "          const docLinkHtml = 'Like what you see? Visit the ' +\n",
              "            '<a target=\"_blank\" href=https://colab.research.google.com/notebooks/data_table.ipynb>data table notebook</a>'\n",
              "            + ' to learn more about interactive tables.';\n",
              "          element.innerHTML = '';\n",
              "          dataTable['output_type'] = 'display_data';\n",
              "          await google.colab.output.renderOutput(dataTable, element);\n",
              "          const docLink = document.createElement('div');\n",
              "          docLink.innerHTML = docLinkHtml;\n",
              "          element.appendChild(docLink);\n",
              "        }\n",
              "      </script>\n",
              "    </div>\n",
              "  </div>\n",
              "  "
            ]
          },
          "metadata": {},
          "execution_count": 28
        }
      ]
    },
    {
      "cell_type": "code",
      "source": [
        "executed_tests[2][2][list(executed_tests[2][2].keys())[-2]] # primeiro período de operações, desempenho do par de índice 0"
      ],
      "metadata": {
        "colab": {
          "base_uri": "https://localhost:8080/",
          "height": 710
        },
        "id": "dr9VoIdCGggB",
        "outputId": "e0e10a59-86f1-4cc3-946f-24166febad7d"
      },
      "execution_count": null,
      "outputs": [
        {
          "output_type": "execute_result",
          "data": {
            "text/plain": [
              "             MULT3.SA      holdings1         cash1   total ativo1  retorno1  \\\n",
              "Date                                                                          \n",
              "2021-02-25  19.203924  394275.767321  1.057242e+05  500000.000000       NaN   \n",
              "2021-02-26  18.821377  386421.687092  1.057242e+05  492145.919771 -0.015708   \n",
              "2021-03-01  18.534464  380531.077971  1.057242e+05  486255.310650 -0.011969   \n",
              "2021-03-02  18.926577  388581.544470  1.057242e+05  494305.777149  0.016556   \n",
              "2021-03-03  18.983959  389759.666294  1.057242e+05  495483.898973  0.002383   \n",
              "...               ...            ...           ...            ...       ...   \n",
              "2021-05-20  24.014469 -493041.066051  1.074920e+06  581878.977289 -0.017896   \n",
              "2021-05-21  23.450211 -481456.273239  1.074920e+06  593463.770102  0.019909   \n",
              "2021-05-24  23.545849 -483419.822666  1.074920e+06  591500.220675 -0.003309   \n",
              "2021-05-25  23.890141 -490488.475292  1.074920e+06  584431.568048 -0.011950   \n",
              "2021-05-26  24.119669       0.000000  5.797191e+05  579719.119911 -0.008063   \n",
              "\n",
              "            posicoes1  VIIA3.SA      holdings2          cash2   total ativo2  \\\n",
              "Date                                                                           \n",
              "2021-02-25          1     12.61 -296145.841937  796145.841937  500000.000000   \n",
              "2021-02-26          0     11.87 -278766.947312  796145.841937  517378.894625   \n",
              "2021-03-01          0     12.11 -284403.341937  796145.841937  511742.500000   \n",
              "2021-03-02          0     12.02 -282289.710751  796145.841937  513856.131186   \n",
              "2021-03-03          0     11.92 -279941.201792  796145.841937  516204.640145   \n",
              "...               ...       ...            ...            ...            ...   \n",
              "2021-05-20          0     11.91  279706.346416  226869.447312  506575.793729   \n",
              "2021-05-21          0     11.87  278766.947312  226869.447312  505636.394625   \n",
              "2021-05-24          0     12.46  292623.100896  226869.447312  519492.548208   \n",
              "2021-05-25          0     12.43  291918.557167  226869.447312  518788.004479   \n",
              "2021-05-26          1     12.51       0.000000  520666.802688  520666.802688   \n",
              "\n",
              "            retorno2  posicoes2         z  total ativos  z limite superior  \\\n",
              "Date                                                                         \n",
              "2021-02-25       NaN         -1 -2.657781  1.000000e+06                1.0   \n",
              "2021-02-26  0.034758          0 -2.282792  1.009525e+06                1.0   \n",
              "2021-03-01 -0.010894          0 -2.709257  9.979978e+05                1.0   \n",
              "2021-03-02  0.004130          0 -2.338290  1.008162e+06                1.0   \n",
              "2021-03-03  0.004570          0 -2.206707  1.011689e+06                1.0   \n",
              "...              ...        ...       ...           ...                ...   \n",
              "2021-05-20 -0.006449          0  1.533586  1.088455e+06                1.0   \n",
              "2021-05-21 -0.001854          0  1.150654  1.099100e+06                1.0   \n",
              "2021-05-24  0.027403          0  0.696378  1.110993e+06                1.0   \n",
              "2021-05-25 -0.001356          0  0.978463  1.103220e+06                1.0   \n",
              "2021-05-26  0.003622         -1  1.077501  1.100386e+06                1.0   \n",
              "\n",
              "            z limite inferior  z fecha superior  z fecha inferior  \n",
              "Date                                                               \n",
              "2021-02-25               -1.0               0.5              -0.5  \n",
              "2021-02-26               -1.0               0.5              -0.5  \n",
              "2021-03-01               -1.0               0.5              -0.5  \n",
              "2021-03-02               -1.0               0.5              -0.5  \n",
              "2021-03-03               -1.0               0.5              -0.5  \n",
              "...                       ...               ...               ...  \n",
              "2021-05-20               -1.0               0.5              -0.5  \n",
              "2021-05-21               -1.0               0.5              -0.5  \n",
              "2021-05-24               -1.0               0.5              -0.5  \n",
              "2021-05-25               -1.0               0.5              -0.5  \n",
              "2021-05-26               -1.0               0.5              -0.5  \n",
              "\n",
              "[63 rows x 18 columns]"
            ],
            "text/html": [
              "\n",
              "  <div id=\"df-49dda3f1-dffa-48a5-b914-a371a6ccc6f0\">\n",
              "    <div class=\"colab-df-container\">\n",
              "      <div>\n",
              "<style scoped>\n",
              "    .dataframe tbody tr th:only-of-type {\n",
              "        vertical-align: middle;\n",
              "    }\n",
              "\n",
              "    .dataframe tbody tr th {\n",
              "        vertical-align: top;\n",
              "    }\n",
              "\n",
              "    .dataframe thead th {\n",
              "        text-align: right;\n",
              "    }\n",
              "</style>\n",
              "<table border=\"1\" class=\"dataframe\">\n",
              "  <thead>\n",
              "    <tr style=\"text-align: right;\">\n",
              "      <th></th>\n",
              "      <th>MULT3.SA</th>\n",
              "      <th>holdings1</th>\n",
              "      <th>cash1</th>\n",
              "      <th>total ativo1</th>\n",
              "      <th>retorno1</th>\n",
              "      <th>posicoes1</th>\n",
              "      <th>VIIA3.SA</th>\n",
              "      <th>holdings2</th>\n",
              "      <th>cash2</th>\n",
              "      <th>total ativo2</th>\n",
              "      <th>retorno2</th>\n",
              "      <th>posicoes2</th>\n",
              "      <th>z</th>\n",
              "      <th>total ativos</th>\n",
              "      <th>z limite superior</th>\n",
              "      <th>z limite inferior</th>\n",
              "      <th>z fecha superior</th>\n",
              "      <th>z fecha inferior</th>\n",
              "    </tr>\n",
              "    <tr>\n",
              "      <th>Date</th>\n",
              "      <th></th>\n",
              "      <th></th>\n",
              "      <th></th>\n",
              "      <th></th>\n",
              "      <th></th>\n",
              "      <th></th>\n",
              "      <th></th>\n",
              "      <th></th>\n",
              "      <th></th>\n",
              "      <th></th>\n",
              "      <th></th>\n",
              "      <th></th>\n",
              "      <th></th>\n",
              "      <th></th>\n",
              "      <th></th>\n",
              "      <th></th>\n",
              "      <th></th>\n",
              "      <th></th>\n",
              "    </tr>\n",
              "  </thead>\n",
              "  <tbody>\n",
              "    <tr>\n",
              "      <th>2021-02-25</th>\n",
              "      <td>19.203924</td>\n",
              "      <td>394275.767321</td>\n",
              "      <td>1.057242e+05</td>\n",
              "      <td>500000.000000</td>\n",
              "      <td>NaN</td>\n",
              "      <td>1</td>\n",
              "      <td>12.61</td>\n",
              "      <td>-296145.841937</td>\n",
              "      <td>796145.841937</td>\n",
              "      <td>500000.000000</td>\n",
              "      <td>NaN</td>\n",
              "      <td>-1</td>\n",
              "      <td>-2.657781</td>\n",
              "      <td>1.000000e+06</td>\n",
              "      <td>1.0</td>\n",
              "      <td>-1.0</td>\n",
              "      <td>0.5</td>\n",
              "      <td>-0.5</td>\n",
              "    </tr>\n",
              "    <tr>\n",
              "      <th>2021-02-26</th>\n",
              "      <td>18.821377</td>\n",
              "      <td>386421.687092</td>\n",
              "      <td>1.057242e+05</td>\n",
              "      <td>492145.919771</td>\n",
              "      <td>-0.015708</td>\n",
              "      <td>0</td>\n",
              "      <td>11.87</td>\n",
              "      <td>-278766.947312</td>\n",
              "      <td>796145.841937</td>\n",
              "      <td>517378.894625</td>\n",
              "      <td>0.034758</td>\n",
              "      <td>0</td>\n",
              "      <td>-2.282792</td>\n",
              "      <td>1.009525e+06</td>\n",
              "      <td>1.0</td>\n",
              "      <td>-1.0</td>\n",
              "      <td>0.5</td>\n",
              "      <td>-0.5</td>\n",
              "    </tr>\n",
              "    <tr>\n",
              "      <th>2021-03-01</th>\n",
              "      <td>18.534464</td>\n",
              "      <td>380531.077971</td>\n",
              "      <td>1.057242e+05</td>\n",
              "      <td>486255.310650</td>\n",
              "      <td>-0.011969</td>\n",
              "      <td>0</td>\n",
              "      <td>12.11</td>\n",
              "      <td>-284403.341937</td>\n",
              "      <td>796145.841937</td>\n",
              "      <td>511742.500000</td>\n",
              "      <td>-0.010894</td>\n",
              "      <td>0</td>\n",
              "      <td>-2.709257</td>\n",
              "      <td>9.979978e+05</td>\n",
              "      <td>1.0</td>\n",
              "      <td>-1.0</td>\n",
              "      <td>0.5</td>\n",
              "      <td>-0.5</td>\n",
              "    </tr>\n",
              "    <tr>\n",
              "      <th>2021-03-02</th>\n",
              "      <td>18.926577</td>\n",
              "      <td>388581.544470</td>\n",
              "      <td>1.057242e+05</td>\n",
              "      <td>494305.777149</td>\n",
              "      <td>0.016556</td>\n",
              "      <td>0</td>\n",
              "      <td>12.02</td>\n",
              "      <td>-282289.710751</td>\n",
              "      <td>796145.841937</td>\n",
              "      <td>513856.131186</td>\n",
              "      <td>0.004130</td>\n",
              "      <td>0</td>\n",
              "      <td>-2.338290</td>\n",
              "      <td>1.008162e+06</td>\n",
              "      <td>1.0</td>\n",
              "      <td>-1.0</td>\n",
              "      <td>0.5</td>\n",
              "      <td>-0.5</td>\n",
              "    </tr>\n",
              "    <tr>\n",
              "      <th>2021-03-03</th>\n",
              "      <td>18.983959</td>\n",
              "      <td>389759.666294</td>\n",
              "      <td>1.057242e+05</td>\n",
              "      <td>495483.898973</td>\n",
              "      <td>0.002383</td>\n",
              "      <td>0</td>\n",
              "      <td>11.92</td>\n",
              "      <td>-279941.201792</td>\n",
              "      <td>796145.841937</td>\n",
              "      <td>516204.640145</td>\n",
              "      <td>0.004570</td>\n",
              "      <td>0</td>\n",
              "      <td>-2.206707</td>\n",
              "      <td>1.011689e+06</td>\n",
              "      <td>1.0</td>\n",
              "      <td>-1.0</td>\n",
              "      <td>0.5</td>\n",
              "      <td>-0.5</td>\n",
              "    </tr>\n",
              "    <tr>\n",
              "      <th>...</th>\n",
              "      <td>...</td>\n",
              "      <td>...</td>\n",
              "      <td>...</td>\n",
              "      <td>...</td>\n",
              "      <td>...</td>\n",
              "      <td>...</td>\n",
              "      <td>...</td>\n",
              "      <td>...</td>\n",
              "      <td>...</td>\n",
              "      <td>...</td>\n",
              "      <td>...</td>\n",
              "      <td>...</td>\n",
              "      <td>...</td>\n",
              "      <td>...</td>\n",
              "      <td>...</td>\n",
              "      <td>...</td>\n",
              "      <td>...</td>\n",
              "      <td>...</td>\n",
              "    </tr>\n",
              "    <tr>\n",
              "      <th>2021-05-20</th>\n",
              "      <td>24.014469</td>\n",
              "      <td>-493041.066051</td>\n",
              "      <td>1.074920e+06</td>\n",
              "      <td>581878.977289</td>\n",
              "      <td>-0.017896</td>\n",
              "      <td>0</td>\n",
              "      <td>11.91</td>\n",
              "      <td>279706.346416</td>\n",
              "      <td>226869.447312</td>\n",
              "      <td>506575.793729</td>\n",
              "      <td>-0.006449</td>\n",
              "      <td>0</td>\n",
              "      <td>1.533586</td>\n",
              "      <td>1.088455e+06</td>\n",
              "      <td>1.0</td>\n",
              "      <td>-1.0</td>\n",
              "      <td>0.5</td>\n",
              "      <td>-0.5</td>\n",
              "    </tr>\n",
              "    <tr>\n",
              "      <th>2021-05-21</th>\n",
              "      <td>23.450211</td>\n",
              "      <td>-481456.273239</td>\n",
              "      <td>1.074920e+06</td>\n",
              "      <td>593463.770102</td>\n",
              "      <td>0.019909</td>\n",
              "      <td>0</td>\n",
              "      <td>11.87</td>\n",
              "      <td>278766.947312</td>\n",
              "      <td>226869.447312</td>\n",
              "      <td>505636.394625</td>\n",
              "      <td>-0.001854</td>\n",
              "      <td>0</td>\n",
              "      <td>1.150654</td>\n",
              "      <td>1.099100e+06</td>\n",
              "      <td>1.0</td>\n",
              "      <td>-1.0</td>\n",
              "      <td>0.5</td>\n",
              "      <td>-0.5</td>\n",
              "    </tr>\n",
              "    <tr>\n",
              "      <th>2021-05-24</th>\n",
              "      <td>23.545849</td>\n",
              "      <td>-483419.822666</td>\n",
              "      <td>1.074920e+06</td>\n",
              "      <td>591500.220675</td>\n",
              "      <td>-0.003309</td>\n",
              "      <td>0</td>\n",
              "      <td>12.46</td>\n",
              "      <td>292623.100896</td>\n",
              "      <td>226869.447312</td>\n",
              "      <td>519492.548208</td>\n",
              "      <td>0.027403</td>\n",
              "      <td>0</td>\n",
              "      <td>0.696378</td>\n",
              "      <td>1.110993e+06</td>\n",
              "      <td>1.0</td>\n",
              "      <td>-1.0</td>\n",
              "      <td>0.5</td>\n",
              "      <td>-0.5</td>\n",
              "    </tr>\n",
              "    <tr>\n",
              "      <th>2021-05-25</th>\n",
              "      <td>23.890141</td>\n",
              "      <td>-490488.475292</td>\n",
              "      <td>1.074920e+06</td>\n",
              "      <td>584431.568048</td>\n",
              "      <td>-0.011950</td>\n",
              "      <td>0</td>\n",
              "      <td>12.43</td>\n",
              "      <td>291918.557167</td>\n",
              "      <td>226869.447312</td>\n",
              "      <td>518788.004479</td>\n",
              "      <td>-0.001356</td>\n",
              "      <td>0</td>\n",
              "      <td>0.978463</td>\n",
              "      <td>1.103220e+06</td>\n",
              "      <td>1.0</td>\n",
              "      <td>-1.0</td>\n",
              "      <td>0.5</td>\n",
              "      <td>-0.5</td>\n",
              "    </tr>\n",
              "    <tr>\n",
              "      <th>2021-05-26</th>\n",
              "      <td>24.119669</td>\n",
              "      <td>0.000000</td>\n",
              "      <td>5.797191e+05</td>\n",
              "      <td>579719.119911</td>\n",
              "      <td>-0.008063</td>\n",
              "      <td>1</td>\n",
              "      <td>12.51</td>\n",
              "      <td>0.000000</td>\n",
              "      <td>520666.802688</td>\n",
              "      <td>520666.802688</td>\n",
              "      <td>0.003622</td>\n",
              "      <td>-1</td>\n",
              "      <td>1.077501</td>\n",
              "      <td>1.100386e+06</td>\n",
              "      <td>1.0</td>\n",
              "      <td>-1.0</td>\n",
              "      <td>0.5</td>\n",
              "      <td>-0.5</td>\n",
              "    </tr>\n",
              "  </tbody>\n",
              "</table>\n",
              "<p>63 rows × 18 columns</p>\n",
              "</div>\n",
              "      <button class=\"colab-df-convert\" onclick=\"convertToInteractive('df-49dda3f1-dffa-48a5-b914-a371a6ccc6f0')\"\n",
              "              title=\"Convert this dataframe to an interactive table.\"\n",
              "              style=\"display:none;\">\n",
              "        \n",
              "  <svg xmlns=\"http://www.w3.org/2000/svg\" height=\"24px\"viewBox=\"0 0 24 24\"\n",
              "       width=\"24px\">\n",
              "    <path d=\"M0 0h24v24H0V0z\" fill=\"none\"/>\n",
              "    <path d=\"M18.56 5.44l.94 2.06.94-2.06 2.06-.94-2.06-.94-.94-2.06-.94 2.06-2.06.94zm-11 1L8.5 8.5l.94-2.06 2.06-.94-2.06-.94L8.5 2.5l-.94 2.06-2.06.94zm10 10l.94 2.06.94-2.06 2.06-.94-2.06-.94-.94-2.06-.94 2.06-2.06.94z\"/><path d=\"M17.41 7.96l-1.37-1.37c-.4-.4-.92-.59-1.43-.59-.52 0-1.04.2-1.43.59L10.3 9.45l-7.72 7.72c-.78.78-.78 2.05 0 2.83L4 21.41c.39.39.9.59 1.41.59.51 0 1.02-.2 1.41-.59l7.78-7.78 2.81-2.81c.8-.78.8-2.07 0-2.86zM5.41 20L4 18.59l7.72-7.72 1.47 1.35L5.41 20z\"/>\n",
              "  </svg>\n",
              "      </button>\n",
              "      \n",
              "  <style>\n",
              "    .colab-df-container {\n",
              "      display:flex;\n",
              "      flex-wrap:wrap;\n",
              "      gap: 12px;\n",
              "    }\n",
              "\n",
              "    .colab-df-convert {\n",
              "      background-color: #E8F0FE;\n",
              "      border: none;\n",
              "      border-radius: 50%;\n",
              "      cursor: pointer;\n",
              "      display: none;\n",
              "      fill: #1967D2;\n",
              "      height: 32px;\n",
              "      padding: 0 0 0 0;\n",
              "      width: 32px;\n",
              "    }\n",
              "\n",
              "    .colab-df-convert:hover {\n",
              "      background-color: #E2EBFA;\n",
              "      box-shadow: 0px 1px 2px rgba(60, 64, 67, 0.3), 0px 1px 3px 1px rgba(60, 64, 67, 0.15);\n",
              "      fill: #174EA6;\n",
              "    }\n",
              "\n",
              "    [theme=dark] .colab-df-convert {\n",
              "      background-color: #3B4455;\n",
              "      fill: #D2E3FC;\n",
              "    }\n",
              "\n",
              "    [theme=dark] .colab-df-convert:hover {\n",
              "      background-color: #434B5C;\n",
              "      box-shadow: 0px 1px 3px 1px rgba(0, 0, 0, 0.15);\n",
              "      filter: drop-shadow(0px 1px 2px rgba(0, 0, 0, 0.3));\n",
              "      fill: #FFFFFF;\n",
              "    }\n",
              "  </style>\n",
              "\n",
              "      <script>\n",
              "        const buttonEl =\n",
              "          document.querySelector('#df-49dda3f1-dffa-48a5-b914-a371a6ccc6f0 button.colab-df-convert');\n",
              "        buttonEl.style.display =\n",
              "          google.colab.kernel.accessAllowed ? 'block' : 'none';\n",
              "\n",
              "        async function convertToInteractive(key) {\n",
              "          const element = document.querySelector('#df-49dda3f1-dffa-48a5-b914-a371a6ccc6f0');\n",
              "          const dataTable =\n",
              "            await google.colab.kernel.invokeFunction('convertToInteractive',\n",
              "                                                     [key], {});\n",
              "          if (!dataTable) return;\n",
              "\n",
              "          const docLinkHtml = 'Like what you see? Visit the ' +\n",
              "            '<a target=\"_blank\" href=https://colab.research.google.com/notebooks/data_table.ipynb>data table notebook</a>'\n",
              "            + ' to learn more about interactive tables.';\n",
              "          element.innerHTML = '';\n",
              "          dataTable['output_type'] = 'display_data';\n",
              "          await google.colab.output.renderOutput(dataTable, element);\n",
              "          const docLink = document.createElement('div');\n",
              "          docLink.innerHTML = docLinkHtml;\n",
              "          element.appendChild(docLink);\n",
              "        }\n",
              "      </script>\n",
              "    </div>\n",
              "  </div>\n",
              "  "
            ]
          },
          "metadata": {},
          "execution_count": 29
        }
      ]
    },
    {
      "cell_type": "markdown",
      "source": [
        "Exportando para um arquivo Excel o relatório da estratégia"
      ],
      "metadata": {
        "id": "RcrdewwwLXQY"
      }
    },
    {
      "cell_type": "code",
      "source": [
        "resumo = {'Treino':treino,'Teste':teste,'Pares usados':pares_usados,'Rentabilidade Líquida Trimestral':lucros}\n",
        "resumo_df = pd.DataFrame(resumo)\n",
        "list_pairs_df = []\n",
        "for i in resumo_df.index:\n",
        "  pairs_df = pd.DataFrame(executed_tests[i][0],index=['Rentabilidade Líquida'])\n",
        "  list_pairs_df.append(pairs_df.transpose())\n",
        "writer = pd.ExcelWriter('PairsTrading.xlsx', engine='xlsxwriter')\n",
        "\n",
        "resumo_df.to_excel(writer, sheet_name='Geral')\n",
        "soma=0\n",
        "for i in list_pairs_df:\n",
        "  i.to_excel(writer, sheet_name=str(soma))\n",
        "  soma+=1\n",
        "\n",
        "writer.save()"
      ],
      "metadata": {
        "id": "VNe2OBC6HXTD"
      },
      "execution_count": null,
      "outputs": []
    },
    {
      "cell_type": "markdown",
      "metadata": {
        "id": "qC2k3AGutnLF"
      },
      "source": [
        "# Referências"
      ]
    },
    {
      "cell_type": "markdown",
      "metadata": {
        "id": "Vf88-NnaLj06"
      },
      "source": [
        "## Websites\n",
        "- https://medium.com/swlh/creating-and-back-testing-a-pairs-trading-strategy-in-python-caa807b70373 \\\n",
        "- https://www.linkedin.com/pulse/statistical-arbitrage-pairs-trading-backtesting-sabir-jana/\n",
        "- https://www.statisticshowto.com/probability-and-statistics/z-score/\n",
        "\n",
        "## Artigos\n",
        "- A Estratégia de Pares no Mercado Acionário Brasileiro o Impacto da Frequência de Dados (2015)\n",
        "- Análise de Estratégias Pairs Trading através dos Métodos de Cointegração e - Correlação Aplicados ao Mercado Acionário Brasileiro\n",
        "- Arbitragem Estatística entre Dois Ativos um Estudo da Abordagem de Cointegração no Brasil entre 2003 e 2014 (2017)\n",
        "- Arbitragem Estatística, Estratégia Long-Short Pairs Trading, Abordagem com Cointegração Aplicada ao Mercado de Ações"
      ]
    }
  ],
  "metadata": {
    "colab": {
      "collapsed_sections": [
        "wUJCQIGQoZaZ",
        "jmwymBz75YHJ",
        "7g4X5g5Ws7VX",
        "fzjQz2L-yQDn",
        "4GLV6seMXaOV"
      ],
      "provenance": []
    },
    "kernelspec": {
      "display_name": "Python 3",
      "name": "python3"
    },
    "language_info": {
      "name": "python"
    }
  },
  "nbformat": 4,
  "nbformat_minor": 0
}